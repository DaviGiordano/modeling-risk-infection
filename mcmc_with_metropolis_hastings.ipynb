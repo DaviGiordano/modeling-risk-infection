{
 "cells": [
  {
   "cell_type": "code",
   "execution_count": 244,
   "metadata": {
    "ExecuteTime": {
     "end_time": "2023-11-27T21:06:28.987514175Z",
     "start_time": "2023-11-27T21:06:28.861752484Z"
    }
   },
   "outputs": [],
   "source": [
    "# Pandas and numpy for data manipulation\n",
    "import pandas as pd\n",
    "import numpy as np\n",
    "\n",
    "# Matplotlib and seaborn for visualization\n",
    "import matplotlib.pyplot as plt\n",
    "import seaborn as sns\n",
    "\n",
    "# Linear Regression to verify implementation\n",
    "from sklearn.linear_model import LinearRegression\n",
    "\n",
    "# Scipy for statistics\n",
    "import scipy\n",
    "import arviz as az\n",
    "\n",
    "\n",
    "# PyMC3 for Bayesian Inference\n",
    "# import pymc3 as pm"
   ]
  },
  {
   "cell_type": "code",
   "execution_count": 245,
   "metadata": {
    "ExecuteTime": {
     "end_time": "2023-11-27T21:06:28.987972391Z",
     "start_time": "2023-11-27T21:06:28.904927941Z"
    }
   },
   "outputs": [],
   "source": [
    "import pymc as pm"
   ]
  },
  {
   "cell_type": "code",
   "execution_count": 246,
   "metadata": {
    "ExecuteTime": {
     "end_time": "2023-11-27T21:06:28.988885086Z",
     "start_time": "2023-11-27T21:06:28.905313002Z"
    }
   },
   "outputs": [
    {
     "data": {
      "text/plain": "   lenght_of_stay   age  infection_risk  routine_culturing_ratio  \\\n1            7.13  55.7             4.1                      9.0   \n2            8.82  58.2             1.6                      3.8   \n3            8.34  56.9             2.7                      8.1   \n4            8.95  53.7             5.6                     18.9   \n5           11.20  56.5             5.7                     34.5   \n\n   routine_xray_ratio  num_beds  med_school_affil  region  avg_census  \\\n1                39.6       279                 2       4         207   \n2                51.7        80                 2       2          51   \n3                74.0       107                 2       3          82   \n4               122.8       147                 2       4          53   \n5                88.9       180                 2       1         134   \n\n   num_nurses  avelbl_services  \n1         241             60.0  \n2          52             40.0  \n3          54             20.0  \n4         148             40.0  \n5         151             40.0  ",
      "text/html": "<div>\n<style scoped>\n    .dataframe tbody tr th:only-of-type {\n        vertical-align: middle;\n    }\n\n    .dataframe tbody tr th {\n        vertical-align: top;\n    }\n\n    .dataframe thead th {\n        text-align: right;\n    }\n</style>\n<table border=\"1\" class=\"dataframe\">\n  <thead>\n    <tr style=\"text-align: right;\">\n      <th></th>\n      <th>lenght_of_stay</th>\n      <th>age</th>\n      <th>infection_risk</th>\n      <th>routine_culturing_ratio</th>\n      <th>routine_xray_ratio</th>\n      <th>num_beds</th>\n      <th>med_school_affil</th>\n      <th>region</th>\n      <th>avg_census</th>\n      <th>num_nurses</th>\n      <th>avelbl_services</th>\n    </tr>\n  </thead>\n  <tbody>\n    <tr>\n      <th>1</th>\n      <td>7.13</td>\n      <td>55.7</td>\n      <td>4.1</td>\n      <td>9.0</td>\n      <td>39.6</td>\n      <td>279</td>\n      <td>2</td>\n      <td>4</td>\n      <td>207</td>\n      <td>241</td>\n      <td>60.0</td>\n    </tr>\n    <tr>\n      <th>2</th>\n      <td>8.82</td>\n      <td>58.2</td>\n      <td>1.6</td>\n      <td>3.8</td>\n      <td>51.7</td>\n      <td>80</td>\n      <td>2</td>\n      <td>2</td>\n      <td>51</td>\n      <td>52</td>\n      <td>40.0</td>\n    </tr>\n    <tr>\n      <th>3</th>\n      <td>8.34</td>\n      <td>56.9</td>\n      <td>2.7</td>\n      <td>8.1</td>\n      <td>74.0</td>\n      <td>107</td>\n      <td>2</td>\n      <td>3</td>\n      <td>82</td>\n      <td>54</td>\n      <td>20.0</td>\n    </tr>\n    <tr>\n      <th>4</th>\n      <td>8.95</td>\n      <td>53.7</td>\n      <td>5.6</td>\n      <td>18.9</td>\n      <td>122.8</td>\n      <td>147</td>\n      <td>2</td>\n      <td>4</td>\n      <td>53</td>\n      <td>148</td>\n      <td>40.0</td>\n    </tr>\n    <tr>\n      <th>5</th>\n      <td>11.20</td>\n      <td>56.5</td>\n      <td>5.7</td>\n      <td>34.5</td>\n      <td>88.9</td>\n      <td>180</td>\n      <td>2</td>\n      <td>1</td>\n      <td>134</td>\n      <td>151</td>\n      <td>40.0</td>\n    </tr>\n  </tbody>\n</table>\n</div>"
     },
     "execution_count": 246,
     "metadata": {},
     "output_type": "execute_result"
    }
   ],
   "source": [
    "# Importing dataset\n",
    "columns = ['lenght_of_stay', 'age', 'infection_risk', 'routine_culturing_ratio', 'routine_xray_ratio', 'num_beds', 'med_school_affil', 'region', 'avg_census', 'num_nurses', 'avelbl_services']\n",
    "df = pd.read_csv(\"data/dataset.txt\", sep=\" \", header=None, names=columns)\n",
    "df.head()"
   ]
  },
  {
   "cell_type": "code",
   "execution_count": 247,
   "metadata": {
    "ExecuteTime": {
     "end_time": "2023-11-27T21:06:28.989229442Z",
     "start_time": "2023-11-27T21:06:28.905614259Z"
    }
   },
   "outputs": [],
   "source": [
    "# Separating covariates and target\n",
    "if 'infection_risk' in df.columns:\n",
    "    Y = df.pop(\"infection_risk\").astype(float)\n",
    "\n",
    "X = df.astype(float)\n",
    "# X = X[[\"lenght_of_stay\", \"routine_culturing_ratio\", \"num_nurses\", \"num_beds\", \"avg_census\"]]"
   ]
  },
  {
   "cell_type": "code",
   "execution_count": 248,
   "metadata": {
    "ExecuteTime": {
     "end_time": "2023-11-27T21:06:28.989794275Z",
     "start_time": "2023-11-27T21:06:28.911164667Z"
    }
   },
   "outputs": [
    {
     "name": "stdout",
     "output_type": "stream",
     "text": [
      "lenght_of_stay               9.648319\n",
      "age                         53.231858\n",
      "routine_culturing_ratio     15.792920\n",
      "routine_xray_ratio          81.628319\n",
      "num_beds                   252.168142\n",
      "med_school_affil             1.849558\n",
      "region                       2.362832\n",
      "avg_census                 191.371681\n",
      "num_nurses                 173.247788\n",
      "avelbl_services             43.159292\n",
      "dtype: float64\n",
      "lenght_of_stay               1.911456\n",
      "age                          4.461607\n",
      "routine_culturing_ratio     10.234707\n",
      "routine_xray_ratio          19.363826\n",
      "num_beds                   192.842687\n",
      "med_school_affil             0.359097\n",
      "region                       1.009437\n",
      "avg_census                 153.759564\n",
      "num_nurses                 139.265390\n",
      "avelbl_services             15.200861\n",
      "dtype: float64\n"
     ]
    }
   ],
   "source": [
    "print(X.mean())\n",
    "print(X.std())\n"
   ]
  },
  {
   "cell_type": "code",
   "execution_count": 249,
   "metadata": {
    "ExecuteTime": {
     "end_time": "2023-11-27T21:06:28.992721450Z",
     "start_time": "2023-11-27T21:06:28.923081770Z"
    }
   },
   "outputs": [
    {
     "name": "stdout",
     "output_type": "stream",
     "text": [
      "N: 113 D: 10\n"
     ]
    },
    {
     "data": {
      "text/plain": "     lenght_of_stay       age  routine_culturing_ratio  routine_xray_ratio  \\\n1         -1.317487  0.553196                -0.663714           -2.170455   \n2         -0.433344  1.113532                -1.171789           -1.545579   \n3         -0.684462  0.822157                -0.751650           -0.393947   \n4         -0.365333  0.104927                 0.303583            2.126216   \n5          0.811780  0.732503                 1.827808            0.375529   \n..              ...       ...                      ...                 ...   \n109        1.125677  0.127340                -0.653943            1.821524   \n110       -0.077595 -0.881265                 2.560609           -0.554039   \n111       -1.019285  0.822157                -0.351053           -0.708967   \n112        4.337888  0.665263                 1.036383            0.525293   \n113       -0.124679  1.404907                 0.469684            0.520129   \n\n     num_beds  med_school_affil    region  avg_census  num_nurses  \\\n1    0.139139          0.418947  1.621862    0.101641    0.486497   \n2   -0.892791          0.418947 -0.359440   -0.912930   -0.870624   \n3   -0.752780          0.418947  0.631211   -0.711316   -0.856263   \n4   -0.545357          0.418947  1.621862   -0.899922   -0.181293   \n5   -0.374233          0.418947 -1.350091   -0.373126   -0.159751   \n..        ...               ...       ...         ...         ...   \n109  1.653326         -2.365816 -0.359440    1.623498    2.123659   \n110 -0.799450          0.418947  0.631211   -0.802368   -0.913707   \n111 -0.638697          0.418947  1.621862   -0.691805   -0.267459   \n112  3.022318         -2.365816 -1.350091    3.899779    1.678466   \n113 -1.157255          0.418947  0.631211   -1.114543   -1.086040   \n\n     avelbl_services  \n1           1.107879  \n2          -0.207836  \n3          -1.523551  \n4          -0.207836  \n5          -0.207836  \n..               ...  \n109         1.298657  \n110        -1.332773  \n111         1.298657  \n112         1.298657  \n113        -1.332773  \n\n[113 rows x 10 columns]",
      "text/html": "<div>\n<style scoped>\n    .dataframe tbody tr th:only-of-type {\n        vertical-align: middle;\n    }\n\n    .dataframe tbody tr th {\n        vertical-align: top;\n    }\n\n    .dataframe thead th {\n        text-align: right;\n    }\n</style>\n<table border=\"1\" class=\"dataframe\">\n  <thead>\n    <tr style=\"text-align: right;\">\n      <th></th>\n      <th>lenght_of_stay</th>\n      <th>age</th>\n      <th>routine_culturing_ratio</th>\n      <th>routine_xray_ratio</th>\n      <th>num_beds</th>\n      <th>med_school_affil</th>\n      <th>region</th>\n      <th>avg_census</th>\n      <th>num_nurses</th>\n      <th>avelbl_services</th>\n    </tr>\n  </thead>\n  <tbody>\n    <tr>\n      <th>1</th>\n      <td>-1.317487</td>\n      <td>0.553196</td>\n      <td>-0.663714</td>\n      <td>-2.170455</td>\n      <td>0.139139</td>\n      <td>0.418947</td>\n      <td>1.621862</td>\n      <td>0.101641</td>\n      <td>0.486497</td>\n      <td>1.107879</td>\n    </tr>\n    <tr>\n      <th>2</th>\n      <td>-0.433344</td>\n      <td>1.113532</td>\n      <td>-1.171789</td>\n      <td>-1.545579</td>\n      <td>-0.892791</td>\n      <td>0.418947</td>\n      <td>-0.359440</td>\n      <td>-0.912930</td>\n      <td>-0.870624</td>\n      <td>-0.207836</td>\n    </tr>\n    <tr>\n      <th>3</th>\n      <td>-0.684462</td>\n      <td>0.822157</td>\n      <td>-0.751650</td>\n      <td>-0.393947</td>\n      <td>-0.752780</td>\n      <td>0.418947</td>\n      <td>0.631211</td>\n      <td>-0.711316</td>\n      <td>-0.856263</td>\n      <td>-1.523551</td>\n    </tr>\n    <tr>\n      <th>4</th>\n      <td>-0.365333</td>\n      <td>0.104927</td>\n      <td>0.303583</td>\n      <td>2.126216</td>\n      <td>-0.545357</td>\n      <td>0.418947</td>\n      <td>1.621862</td>\n      <td>-0.899922</td>\n      <td>-0.181293</td>\n      <td>-0.207836</td>\n    </tr>\n    <tr>\n      <th>5</th>\n      <td>0.811780</td>\n      <td>0.732503</td>\n      <td>1.827808</td>\n      <td>0.375529</td>\n      <td>-0.374233</td>\n      <td>0.418947</td>\n      <td>-1.350091</td>\n      <td>-0.373126</td>\n      <td>-0.159751</td>\n      <td>-0.207836</td>\n    </tr>\n    <tr>\n      <th>...</th>\n      <td>...</td>\n      <td>...</td>\n      <td>...</td>\n      <td>...</td>\n      <td>...</td>\n      <td>...</td>\n      <td>...</td>\n      <td>...</td>\n      <td>...</td>\n      <td>...</td>\n    </tr>\n    <tr>\n      <th>109</th>\n      <td>1.125677</td>\n      <td>0.127340</td>\n      <td>-0.653943</td>\n      <td>1.821524</td>\n      <td>1.653326</td>\n      <td>-2.365816</td>\n      <td>-0.359440</td>\n      <td>1.623498</td>\n      <td>2.123659</td>\n      <td>1.298657</td>\n    </tr>\n    <tr>\n      <th>110</th>\n      <td>-0.077595</td>\n      <td>-0.881265</td>\n      <td>2.560609</td>\n      <td>-0.554039</td>\n      <td>-0.799450</td>\n      <td>0.418947</td>\n      <td>0.631211</td>\n      <td>-0.802368</td>\n      <td>-0.913707</td>\n      <td>-1.332773</td>\n    </tr>\n    <tr>\n      <th>111</th>\n      <td>-1.019285</td>\n      <td>0.822157</td>\n      <td>-0.351053</td>\n      <td>-0.708967</td>\n      <td>-0.638697</td>\n      <td>0.418947</td>\n      <td>1.621862</td>\n      <td>-0.691805</td>\n      <td>-0.267459</td>\n      <td>1.298657</td>\n    </tr>\n    <tr>\n      <th>112</th>\n      <td>4.337888</td>\n      <td>0.665263</td>\n      <td>1.036383</td>\n      <td>0.525293</td>\n      <td>3.022318</td>\n      <td>-2.365816</td>\n      <td>-1.350091</td>\n      <td>3.899779</td>\n      <td>1.678466</td>\n      <td>1.298657</td>\n    </tr>\n    <tr>\n      <th>113</th>\n      <td>-0.124679</td>\n      <td>1.404907</td>\n      <td>0.469684</td>\n      <td>0.520129</td>\n      <td>-1.157255</td>\n      <td>0.418947</td>\n      <td>0.631211</td>\n      <td>-1.114543</td>\n      <td>-1.086040</td>\n      <td>-1.332773</td>\n    </tr>\n  </tbody>\n</table>\n<p>113 rows × 10 columns</p>\n</div>"
     },
     "execution_count": 249,
     "metadata": {},
     "output_type": "execute_result"
    }
   ],
   "source": [
    "# Standardizing the covariates\n",
    "X -= X.mean()\n",
    "X /= X.std()\n",
    "\n",
    "# Getting shape\n",
    "N, D = X.shape\n",
    "print(\"N:\", N, \"D:\", D)\n",
    "X"
   ]
  },
  {
   "cell_type": "code",
   "execution_count": 250,
   "metadata": {
    "ExecuteTime": {
     "end_time": "2023-11-27T21:06:29.104638135Z",
     "start_time": "2023-11-27T21:06:28.950718747Z"
    }
   },
   "outputs": [],
   "source": [
    "# Defining model\n",
    "basic_model = pm.Model()\n",
    "\n",
    "with basic_model:\n",
    "    # Priors for unknown model parameters\n",
    "    alpha = pm.Normal(\"alpha\", mu=0, sigma=10)\n",
    "    beta = pm.Normal(\"beta\", mu=0, sigma=10, shape=X.shape[1])\n",
    "    sigma = pm.HalfNormal(\"sigma\", sigma=1)\n",
    "\n",
    "    # Expected value of outcome\n",
    "    mu = alpha + pm.math.dot(X, beta)\n",
    "\n",
    "    # Likelihood (sampling distribution) of observations\n",
    "    Y_obs = pm.StudentT(\"Y_obs\", mu=mu, sigma=sigma, nu=4, observed=Y)"
   ]
  },
  {
   "cell_type": "code",
   "execution_count": null,
   "metadata": {
    "is_executing": true,
    "ExecuteTime": {
     "start_time": "2023-11-27T21:06:29.036922062Z"
    }
   },
   "outputs": [
    {
     "name": "stderr",
     "output_type": "stream",
     "text": [
      "Multiprocess sampling (4 chains in 4 jobs)\n",
      "CompoundStep\n",
      ">Metropolis: [alpha]\n",
      ">Metropolis: [beta]\n",
      ">Metropolis: [sigma]\n"
     ]
    },
    {
     "data": {
      "text/plain": "<IPython.core.display.HTML object>",
      "text/html": "\n<style>\n    /* Turns off some styling */\n    progress {\n        /* gets rid of default border in Firefox and Opera. */\n        border: none;\n        /* Needs to be in here for Safari polyfill so background images work as expected. */\n        background-size: auto;\n    }\n    progress:not([value]), progress:not([value])::-webkit-progress-bar {\n        background: repeating-linear-gradient(45deg, #7e7e7e, #7e7e7e 10px, #5c5c5c 10px, #5c5c5c 20px);\n    }\n    .progress-bar-interrupted, .progress-bar-interrupted::-webkit-progress-bar {\n        background: #F44336;\n    }\n</style>\n"
     },
     "metadata": {},
     "output_type": "display_data"
    },
    {
     "data": {
      "text/plain": "<IPython.core.display.HTML object>",
      "text/html": "\n    <div>\n      <progress value='0' class='' max='404000' style='width:300px; height:20px; vertical-align: middle;'></progress>\n      \n    </div>\n    "
     },
     "metadata": {},
     "output_type": "display_data"
    }
   ],
   "source": [
    "# Sampling\n",
    "run_sampling = True\n",
    "if run_sampling:\n",
    "    with basic_model:\n",
    "        step = pm.Metropolis()\n",
    "        idata = pm.sample(100000, step=step)\n",
    "    az.to_netcdf(idata, 'models/model_results.nc')\n",
    "    "
   ]
  },
  {
   "cell_type": "code",
   "execution_count": null,
   "outputs": [],
   "source": [
    "with basic_model:\n",
    "    az.plot_trace(idata)"
   ],
   "metadata": {
    "collapsed": false,
    "is_executing": true
   }
  },
  {
   "cell_type": "code",
   "execution_count": null,
   "metadata": {
    "is_executing": true
   },
   "outputs": [],
   "source": [
    "# Load saved model\n",
    "loaded_idata = az.from_netcdf('models/model_results.nc')\n"
   ]
  },
  {
   "cell_type": "code",
   "execution_count": null,
   "metadata": {
    "is_executing": true
   },
   "outputs": [],
   "source": [
    "# Plot posterior densities of parameters\n",
    "az.plot_density(idata, group='posterior', hdi_prob=0.95);"
   ]
  },
  {
   "cell_type": "code",
   "execution_count": null,
   "metadata": {
    "is_executing": true
   },
   "outputs": [],
   "source": [
    "# Plot parameters for covariates\n",
    "az.plot_forest(idata, var_names=[\"beta\"], combined=True, hdi_prob=0.95, r_hat=True);"
   ]
  },
  {
   "cell_type": "code",
   "execution_count": null,
   "metadata": {
    "is_executing": true
   },
   "outputs": [],
   "source": [
    "# Plot summary of parameters\n",
    "az.summary(idata, round_to=2)"
   ]
  },
  {
   "cell_type": "code",
   "execution_count": null,
   "outputs": [],
   "source": [],
   "metadata": {
    "collapsed": false,
    "is_executing": true
   }
  },
  {
   "cell_type": "code",
   "execution_count": null,
   "outputs": [],
   "source": [
    "Y_pred = pm.sample_posterior_predictive(idata, model=basic_model) # for each sample it draws a beta from each found beta distribution -> finds Y_pred for all X\n",
    "Y_pred"
   ],
   "metadata": {
    "collapsed": false,
    "is_executing": true
   }
  },
  {
   "cell_type": "code",
   "execution_count": null,
   "outputs": [],
   "source": [
    "Y_pred"
   ],
   "metadata": {
    "collapsed": false,
    "is_executing": true
   }
  },
  {
   "cell_type": "code",
   "execution_count": null,
   "outputs": [],
   "source": [
    "import matplotlib.pyplot as plt\n",
    "fig, ax = plt.subplots()\n",
    "plt.xlim(0,10)\n",
    "az.plot_ppc(Y_pred, num_pp_samples=100, ax=ax)\n",
    "# az.plot_ppc(Y_pred, num_pp_samples=100)"
   ],
   "metadata": {
    "collapsed": false,
    "is_executing": true
   }
  },
  {
   "cell_type": "code",
   "execution_count": null,
   "outputs": [],
   "source": [
    "df = pd.read_csv(\"data/dataset.txt\", sep=\" \", header=None, names=columns)\n",
    "\n",
    "sns.histplot(data=df, x=\"infection_risk\", kde=True)"
   ],
   "metadata": {
    "collapsed": false,
    "is_executing": true
   }
  },
  {
   "cell_type": "code",
   "execution_count": null,
   "outputs": [],
   "source": [
    "# basic_model."
   ],
   "metadata": {
    "collapsed": false,
    "is_executing": true
   }
  },
  {
   "cell_type": "code",
   "execution_count": null,
   "outputs": [],
   "source": [],
   "metadata": {
    "collapsed": false,
    "is_executing": true
   }
  }
 ],
 "metadata": {
  "kernelspec": {
   "display_name": "tecnico_sandbox",
   "language": "python",
   "name": "python3"
  },
  "language_info": {
   "codemirror_mode": {
    "name": "ipython",
    "version": 3
   },
   "file_extension": ".py",
   "mimetype": "text/x-python",
   "name": "python",
   "nbconvert_exporter": "python",
   "pygments_lexer": "ipython3",
   "version": "3.11.5"
  }
 },
 "nbformat": 4,
 "nbformat_minor": 2
}
